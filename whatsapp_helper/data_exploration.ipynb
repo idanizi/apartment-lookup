{
 "cells": [
  {
   "cell_type": "markdown",
   "metadata": {},
   "source": [
    "imports"
   ]
  },
  {
   "cell_type": "code",
   "execution_count": 47,
   "metadata": {
    "collapsed": true
   },
   "outputs": [],
   "source": [
    "import webbrowser\n",
    "import re\n",
    "import urllib"
   ]
  },
  {
   "cell_type": "markdown",
   "metadata": {},
   "source": [
    "## Read Data File"
   ]
  },
  {
   "cell_type": "code",
   "execution_count": 11,
   "metadata": {
    "collapsed": true
   },
   "outputs": [
    {
     "data": {
      "text/plain": [
       "{'Jabotinsky St 140': {'description': 'זיו 972502736308\\u200e\\nמראים את הדירה בשישי ב12\\nתמונות ב\\nCHATLIST\\u200e\\u200e\\nפספסתי ביום שישי\\u200e\\n'},\n",
       " 'Hadera St 3': {'description': 'ממתין CHATLIST\\n'},\n",
       " 'Isserles St 20': {'description': 'CHATLIST\\n'},\n",
       " 'Modigliani St 10': {'description': 'CHATLIST\\nתמא 38\\u200e\\n'},\n",
       " 'Ben Yehuda St 218': {'description': 'ממתין לתשובה ב\\nCHATLIST\\n'},\n",
       " 'Balfour St 17': {'description': 'chetlist\\nכבר בתהליכי חתימה\\nעדן\\xa0+972 50-685-8288\\n'},\n",
       " 'Arlozorov St 120': {'description': 'CHATLIST\\n'},\n",
       " 'Nakhum Sokolov St 36': {'description': '\\n'},\n",
       " 'Hankin St 3': {'description': '\\n'},\n",
       " 'Arlozorov St 65': {'description': 'מראים ב13.6 ב8 בערב\\n'},\n",
       " 'HaBashan St 12': {'description': '\\n'},\n",
       " 'Dov Hoz St 11': {'description': 'לא דירת שותפים\\n'},\n",
       " 'Yehuda Gur St 13': {'description': '\\n'},\n",
       " \"Be'eri St 1\": {'description': '\\n'},\n",
       " 'Biltmore St 7': {'description': 'אפשר להגיע לראות ביום ב\\n'},\n",
       " 'Arlozorov St 174': {'description': '+972 53-334-9380 עמית דרור\\nהושכר\\u200e\\n'},\n",
       " 'Sheinkin St 36': {'description': '\"כבר לא רלוונטי, לדבר איתו שבוע הבא אם לא יסגר חוזה\"\\nפזית\\n+972 52-264-3447\\n'},\n",
       " 'Remez St 27': {'description': '\\n'},\n",
       " 'Arlozorov St 164': {'description': '\\n'},\n",
       " 'De Haas St 30': {'description': '\\n'},\n",
       " 'Shlomo Ibn Gabirol St 145': {'description': 'דב\\xa0+972 52-500-4848\\nכבר חתמו\\n'},\n",
       " 'Clay St 3': {'description': '\\n'},\n",
       " 'Shlomo Ibn Gabirol St 70': {'description': 'מושכרת כבר\\nיוספה\\xa0+972 50-775-9457\\n'},\n",
       " 'Nordau St 1': {'description': '\\n'},\n",
       " 'Sderot Ben Gurion 58': {'description': '\\n'},\n",
       " 'Arlozorov St 125': {'description': 'מוטי\\xa0+972 52-253-8866\\nאיידע אותי כשהוא מראה את הדירה\\n'},\n",
       " 'Derech Menachem Begin 144': {'description': '\\n'}}"
      ]
     },
     "execution_count": 11,
     "metadata": {},
     "output_type": "execute_result"
    }
   ],
   "source": [
    "fp = open('apartments.csv', encoding='windows-1255')\n",
    "apartments = {}\n",
    "\n",
    "for line in fp:\n",
    "    address, description = line.split('\\t')\n",
    "    if address not in apartments:\n",
    "        apartments[address] = {'description' : ''}\n",
    "        \n",
    "    apartments[address]['description'] += description\n",
    "\n",
    "apartments"
   ]
  },
  {
   "cell_type": "markdown",
   "metadata": {},
   "source": [
    "## Functions"
   ]
  },
  {
   "cell_type": "code",
   "execution_count": 41,
   "metadata": {
    "collapsed": true
   },
   "outputs": [],
   "source": [
    "def ext_phone(text): \n",
    "    return ''.join(re.findall(r'\\d+', text))"
   ]
  },
  {
   "cell_type": "code",
   "execution_count": 23,
   "metadata": {
    "collapsed": true
   },
   "outputs": [],
   "source": [
    "def create_url(phone, text): return f\"https://api.whatsapp.com/send?phone={phone}&text={text}\""
   ]
  },
  {
   "cell_type": "code",
   "execution_count": 20,
   "metadata": {
    "collapsed": true
   },
   "outputs": [],
   "source": [
    "def convert_to_phone_number(text: str):\n",
    "    if text.startswith('0'):\n",
    "        text = '972' + text[1:]\n",
    "    number = text.replace('-', '').replace('+','')\n",
    "    return number"
   ]
  },
  {
   "cell_type": "code",
   "execution_count": 48,
   "metadata": {
    "collapsed": true
   },
   "outputs": [],
   "source": [
    "def gen_text(address, name=''):\n",
    "    text: str = 'היי' + (f' {name}' if name else '') + ', ' + \\\n",
    "            'בקשר לדירה בכתובת' + f' {address}, ' + 'מתי אפשר להגיע לראות?'\n",
    "    return urllib.parse.quote(text)"
   ]
  },
  {
   "cell_type": "markdown",
   "metadata": {},
   "source": [
    "### Extract phone numbers from data file"
   ]
  },
  {
   "cell_type": "code",
   "execution_count": 51,
   "metadata": {
    "collapsed": true
   },
   "outputs": [
    {
     "data": {
      "text/plain": [
       "['972502736308',\n",
       " '972506858288',\n",
       " '972533349380',\n",
       " '972522643447',\n",
       " '972525004848',\n",
       " '972507759457',\n",
       " '972522538866']"
      ]
     },
     "execution_count": 51,
     "metadata": {},
     "output_type": "execute_result"
    }
   ],
   "source": [
    "numbers = [i[:12] for i in [ext_phone(x['description']) for x in apartments.values()] if i.startswith('972')]\n",
    "numbers"
   ]
  },
  {
   "cell_type": "code",
   "execution_count": 61,
   "metadata": {
    "collapsed": true
   },
   "outputs": [],
   "source": [
    "for number in numbers:\n",
    "    url = create_url(number, 'test')\n",
    "    webbrowser.open_new_tab(url)"
   ]
  },
  {
   "cell_type": "markdown",
   "metadata": {},
   "source": [
    "## Extract using parameters"
   ]
  },
  {
   "cell_type": "code",
   "execution_count": 7,
   "metadata": {},
   "outputs": [
    {
     "name": "stdout",
     "output_type": "stream",
     "text": [
      "phone:\n",
      "054591327\n",
      "\n",
      "address:\n",
      "חיים בן טער 15\n",
      "\n",
      "name:\n",
      "עידן\n",
      "\n",
      "accepted: phone=[054591327], address=[חיים בן טער 15], name=[עידן]\n"
     ]
    }
   ],
   "source": [
    "print('phone:')\n",
    "phone = input() #@param\n",
    "\n",
    "print('\\naddress:')\n",
    "address = input() #@param\n",
    "\n",
    "print('\\nname:')\n",
    "name = input() #@param\n",
    "\n",
    "print(f'\\naccepted: phone=[{phone}], address=[{address}], name=[{name}]')"
   ]
  },
  {
   "cell_type": "markdown",
   "metadata": {},
   "source": [
    "# Run"
   ]
  },
  {
   "cell_type": "code",
   "execution_count": 4,
   "metadata": {},
   "outputs": [
    {
     "data": {
      "text/plain": [
       "'hiii'"
      ]
     },
     "execution_count": 4,
     "metadata": {},
     "output_type": "execute_result"
    }
   ],
   "source": [
    "phone"
   ]
  },
  {
   "cell_type": "code",
   "execution_count": 50,
   "metadata": {
    "collapsed": true
   },
   "outputs": [
    {
     "data": {
      "text/plain": [
       "'https://api.whatsapp.com/send?phone=972545306689&text=%D7%94%D7%99%D7%99%20%D7%90%D7%99%D7%AA%D7%9F%2C%20%D7%91%D7%A7%D7%A9%D7%A8%20%D7%9C%D7%93%D7%99%D7%A8%D7%94%20%D7%91%D7%9B%D7%AA%D7%95%D7%91%D7%AA%20%D7%93%D7%99%D7%96%D7%99%D7%A0%D7%92%D7%95%D7%A3%2046%2C%20%D7%9E%D7%AA%D7%99%20%D7%90%D7%A4%D7%A9%D7%A8%20%D7%9C%D7%94%D7%92%D7%99%D7%A2%20%D7%9C%D7%A8%D7%90%D7%95%D7%AA%3F'"
      ]
     },
     "execution_count": 50,
     "metadata": {},
     "output_type": "execute_result"
    }
   ],
   "source": [
    "url = create_url(convert_to_phone_number(phone), gen_text(address, name))\n",
    "url"
   ]
  },
  {
   "cell_type": "code",
   "execution_count": 51,
   "metadata": {
    "collapsed": true
   },
   "outputs": [
    {
     "data": {
      "text/plain": [
       "True"
      ]
     },
     "execution_count": 51,
     "metadata": {},
     "output_type": "execute_result"
    }
   ],
   "source": [
    "webbrowser.open_new_tab(url)"
   ]
  }
 ],
 "metadata": {
  "kernelspec": {
   "display_name": "Python 3",
   "language": "python",
   "name": "python3"
  },
  "language_info": {
   "codemirror_mode": {
    "name": "ipython",
    "version": 3
   },
   "file_extension": ".py",
   "mimetype": "text/x-python",
   "name": "python",
   "nbconvert_exporter": "python",
   "pygments_lexer": "ipython3",
   "version": "3.7.0"
  }
 },
 "nbformat": 4,
 "nbformat_minor": 2
}
